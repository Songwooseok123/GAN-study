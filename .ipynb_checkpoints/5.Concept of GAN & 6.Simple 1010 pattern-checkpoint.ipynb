{
 "cells": [
  {
   "cell_type": "markdown",
   "id": "returning-aquatic",
   "metadata": {},
   "source": [
    "# GAN (생성적 적대 신경망 : Generative adversarial network)\n",
    "- 생성기와 판별기라는 신경망 모델이 적대하도록 만들어져있다. \n",
    "- 판별기의 목적 : 훈련 데이터 셋을 진짜라고 예측하게끔 훈련, 생성기에서 생성된 이미지를 가짜라고 예측하게끔 훈련. \n",
    "- 생성기의 목적 :판별기가 분류할 이미지를 생성하는 역할을 하며, 만든 이미지에 대해 판별기의 결과가 1.0이 되도록(판별기를 속일 수 있는 데이터를 만드는 것) 하는 것. "
   ]
  },
  {
   "cell_type": "markdown",
   "id": "private-image",
   "metadata": {},
   "source": [
    "## 판별기 업데이트:\n",
    "- 1단계 : 판별기에 실제 데이터를 보여주고 1.0이라는 값이어야 한다고 알려준다\n",
    "\n",
    "- 2단계 : 판별기에 생성기로부터 만들어진 가짜 데이터를 보여주고 0.0 이어야한다고 알려준다"
   ]
  },
  {
   "cell_type": "markdown",
   "id": "acknowledged-evans",
   "metadata": {},
   "source": [
    "## 생성기 업데이트\n",
    "- 3단계 : 판별기에 생성기의 결과를 보여주고 생성기에 결과가 1.0 이어야 한다고 알려준다 "
   ]
  },
  {
   "cell_type": "markdown",
   "id": "dressed-english",
   "metadata": {},
   "source": [
    "# 6. Simple 1010 patterns"
   ]
  },
  {
   "cell_type": "markdown",
   "id": "three-wells",
   "metadata": {},
   "source": [
    "## 실제 데이터 소스"
   ]
  },
  {
   "cell_type": "code",
   "execution_count": 17,
   "id": "functional-spread",
   "metadata": {},
   "outputs": [],
   "source": [
    "import torch\n",
    "import torch.nn as nn\n",
    "import pandas\n",
    "import matplotlib.pyplot as plt\n",
    "import random\n",
    "import numpy as np"
   ]
  },
  {
   "cell_type": "code",
   "execution_count": 2,
   "id": "contained-scale",
   "metadata": {},
   "outputs": [
    {
     "data": {
      "text/plain": [
       "tensor([0.8657, 0.0966, 0.8763, 0.0252])"
      ]
     },
     "execution_count": 2,
     "metadata": {},
     "output_type": "execute_result"
    }
   ],
   "source": [
    "# 실제 데이터에 대하여 1010 패턴을 반환하는 함수에 약간의 임의성을 추가하여 함수를 조금 더 실제 상화와 가깝게 만들어보자. \n",
    "def generate_real():\n",
    "    real_data = torch.FloatTensor(\n",
    "        [random.uniform(0.8,1.0),\n",
    "        random.uniform(0.0,0.2),\n",
    "        random.uniform(0.8,1.0),\n",
    "        random.uniform(0.0,0.2)])\n",
    "    return real_data\n",
    "\n",
    "generate_real()\n",
    "        "
   ]
  },
  {
   "cell_type": "markdown",
   "id": "going-locator",
   "metadata": {},
   "source": [
    "## 판별기 만들기 "
   ]
  },
  {
   "cell_type": "code",
   "execution_count": 3,
   "id": "worldwide-mexican",
   "metadata": {},
   "outputs": [],
   "source": [
    "class Discriminator (nn.Module): # nn.Module 을 상속받아 신경망 클래스를 만들어보자 \n",
    "    def __init__(self):\n",
    "        #파이토치 부모 클래스 초기화\n",
    "        super().__init__()\n",
    "        \n",
    "        #신경망 레이어 정의\n",
    "        self.model = nn.Sequential(\n",
    "        nn.Linear(4,3),\n",
    "        nn.Sigmoid(),\n",
    "        nn.Linear(3,1),\n",
    "        nn.Sigmoid()\n",
    "        )\n",
    "        \n",
    "        #손실함수 설정\n",
    "        self.loss_function = nn.MSELoss()\n",
    "        \n",
    "        #옵티마이저 설정\n",
    "        self.optimiser = torch.optim.SGD(self.parameters(),lr=0.1)\n",
    "        \n",
    "        #진행 측정을 위한 변수 초기화\n",
    "        self.counter =0 ;\n",
    "        self.progress =[]\n",
    "        \n",
    "        pass\n",
    "    \n",
    "    def forward(self,inputs):\n",
    "        #모델실행\n",
    "        return self.model(inputs)\n",
    "    def train(self, inputs,targets):\n",
    "        #신경망 출력 계산\n",
    "        outputs = self.forward(inputs)\n",
    "        \n",
    "        #손실계산\n",
    "        loss = self.loss_function(outputs,targets)\n",
    "        \n",
    "        #카운터를 증가시키고 10회마다 오차 저장\n",
    "        self.counter+=1 ;\n",
    "        if (self.counter %10==0):\n",
    "            self.progress.append(loss.item())\n",
    "            pass\n",
    "        if (self.counter %10000==0):\n",
    "            print(\"counter = \",self.counter)\n",
    "            pass\n",
    "        \n",
    "        #기울기를 초기화하고 역전파 후 가중치 갱신\n",
    "        self.optimiser.zero_grad() #기울기 초기화\n",
    "        loss.backward() #역전파 실행\n",
    "        self.optimiser.step() #가중치 갱신\n",
    "        \n",
    "    def plot_progress(self):\n",
    "        df= pandas.DataFrame(self.progress , columns=['loss'])\n",
    "        df.plot(ylim=(0,1.0),figsize=(16,8),alpha=0.1,marker='.',grid=True,yticks=(0,0.25,0.5))\n",
    "        pass\n",
    "\n",
    "        \n",
    "        "
   ]
  },
  {
   "cell_type": "markdown",
   "id": "conscious-evanescence",
   "metadata": {},
   "source": [
    "## 판별기 테스트 하기 \n"
   ]
  },
  {
   "cell_type": "code",
   "execution_count": 4,
   "id": "stylish-upgrade",
   "metadata": {},
   "outputs": [
    {
     "data": {
      "text/plain": [
       "tensor([0.9538, 0.6414, 0.8617, 0.2894])"
      ]
     },
     "execution_count": 4,
     "metadata": {},
     "output_type": "execute_result"
    }
   ],
   "source": [
    "#임의의 노이즈 패턴을 반환하는 함수 \n",
    "\n",
    "def generate_random(size):\n",
    "    random_data = torch.rand(size)\n",
    "    return random_data\n",
    "\n",
    "generate_random(4)"
   ]
  },
  {
   "cell_type": "markdown",
   "id": "optimum-plasma",
   "metadata": {},
   "source": [
    "### 훈련 반복문 \n",
    "- 1010 패턴의 데이터는 목표출력을 1.0\n",
    "- 임의의 노이즈 데이터는 목표출력을 0.0 으로 훈련!!!"
   ]
  },
  {
   "cell_type": "code",
   "execution_count": 5,
   "id": "accepting-reset",
   "metadata": {},
   "outputs": [
    {
     "name": "stdout",
     "output_type": "stream",
     "text": [
      "counter =  10000\n",
      "counter =  20000\n"
     ]
    }
   ],
   "source": [
    "D= Discriminator()\n",
    "\n",
    "for i in range(10000):\n",
    "    #실제 데이터 \n",
    "    D.train(generate_real(),torch.FloatTensor([1.0]))\n",
    "    \n",
    "    #생성된 데이터 \n",
    "    D.train(generate_random(4),torch.FloatTensor([0.0]))\n",
    "    pass"
   ]
  },
  {
   "cell_type": "code",
   "execution_count": 6,
   "id": "respected-school",
   "metadata": {},
   "outputs": [
    {
     "data": {
      "image/png": "[encoded data removed]",
      "text/plain": [
       "<Figure size 1152x576 with 1 Axes>"
      ]
     },
     "metadata": {
      "needs_background": "light"
     },
     "output_type": "display_data"
    }
   ],
   "source": [
    "D.plot_progress()"
   ]
  },
  {
   "cell_type": "code",
   "execution_count": 7,
   "id": "quarterly-catalyst",
   "metadata": {},
   "outputs": [
    {
     "name": "stdout",
     "output_type": "stream",
     "text": [
      "0.9784053564071655\n",
      "0.001538945478387177\n"
     ]
    }
   ],
   "source": [
    "# 훈련된 판별기에 어떤 패턴을 넣어서 테스트. \n",
    "\n",
    "print(D.forward(generate_real()).item())\n",
    "print(D.forward(generate_random(4)).item())"
   ]
  },
  {
   "cell_type": "markdown",
   "id": "athletic-grass",
   "metadata": {},
   "source": [
    "## 생성기 만들기 "
   ]
  },
  {
   "cell_type": "code",
   "execution_count": 8,
   "id": "operational-hormone",
   "metadata": {},
   "outputs": [],
   "source": [
    "class Generator (nn.Module): # nn.Module 을 상속받아 신경망 클래스를 만들어보자 \n",
    "    def __init__(self):\n",
    "        #파이토치 부모 클래스 초기화\n",
    "        super().__init__()\n",
    "        \n",
    "        #신경망 레이어 정의 # 판별기와는 반대\n",
    "        self.model = nn.Sequential(\n",
    "        nn.Linear(1,3),\n",
    "        nn.Sigmoid(),\n",
    "        nn.Linear(3,4),\n",
    "        nn.Sigmoid()\n",
    "        )\n",
    "        \n",
    "        #손실함수 설정\n",
    "        # 안해도 된다. 손실함수는 오직 판별기의 결과에만 적용이 된다. 생겅기는 판별기로 부터 흘러온 기울기 오차를 통해 업데이트됨.\n",
    "        \n",
    "        \n",
    "        #옵티마이저 설정\n",
    "        self.optimiser = torch.optim.SGD(self.parameters(),lr=0.1)\n",
    "        \n",
    "        #진행 측정을 위한 변수 초기화\n",
    "        self.counter =0 ;\n",
    "        self.progress =[]\n",
    "        \n",
    "        pass\n",
    "    \n",
    "    def forward(self,inputs):\n",
    "        #모델실행\n",
    "        return self.model(inputs)\n",
    "    \n",
    "    '''\n",
    "    판별기를 훈련할 떄는 어떤 결과가 정답이 되어야 하는지 명확하게 알지만 생서익의 경우는 아님\n",
    "    판별기의 결과로 계산된 손실의 역전파 값이 있다.\n",
    "    결과적으로, 생성기를 훈련 시킬 때는 판별기가 필요합니다 . 판별기를 생성기의 train 함수에 넘겨주는 방식이다. \n",
    "    '''\n",
    "    \n",
    "    def train(self,D, inputs,targets):\n",
    "        #신경망 출력 계산\n",
    "        g_output = self.forward(inputs)\n",
    "        \n",
    "        # 판별기로 전달\n",
    "        d_output =D.forward(g_output)\n",
    "        \n",
    "        #손실계산\n",
    "        loss = D.loss_function(d_output,targets)\n",
    "        \n",
    "        #카운터를 증가시키고 10회마다 오차 저장\n",
    "        self.counter+=1 ;\n",
    "        if (self.counter %10==0):\n",
    "            self.progress.append(loss.item())\n",
    "            pass\n",
    "    \n",
    "        #기울기를 초기화하고 역전파 후 가중치 갱신\n",
    "        self.optimiser.zero_grad() #기울기 초기화\n",
    "        loss.backward() #역전파 실행\n",
    "        self.optimiser.step() #가중치 갱신\n",
    "        \n",
    "    def plot_progress(self):\n",
    "        df= pandas.DataFrame(self.progress , columns=['loss'])\n",
    "        df.plot(ylim=(0,1.0),figsize=(16,8),alpha=0.1,marker='.',grid=True,yticks=(0,0.25,0.5))\n",
    "        pass\n",
    "\n",
    "        \n",
    "        "
   ]
  },
  {
   "cell_type": "code",
   "execution_count": 9,
   "id": "bacterial-afternoon",
   "metadata": {},
   "outputs": [
    {
     "data": {
      "text/plain": [
       "tensor([0.5959, 0.4995, 0.6314, 0.4617], grad_fn=<SigmoidBackward>)"
      ]
     },
     "execution_count": 9,
     "metadata": {},
     "output_type": "execute_result"
    }
   ],
   "source": [
    "# 훈련전 생성기 결과 확인하기\n",
    "G= Generator()\n",
    "G.forward(torch.FloatTensor([0.5]))"
   ]
  },
  {
   "cell_type": "markdown",
   "id": "dynamic-burns",
   "metadata": {},
   "source": [
    "## GAN 훈련하기"
   ]
  },
  {
   "cell_type": "code",
   "execution_count": 21,
   "id": "bound-responsibility",
   "metadata": {},
   "outputs": [
    {
     "name": "stdout",
     "output_type": "stream",
     "text": [
      "counter =  10000\n",
      "counter =  20000\n",
      "Wall time: 10.4 s\n"
     ]
    }
   ],
   "source": [
    "%%time\n",
    "#판별기 ,생성기 생성\n",
    "D= Discriminator()\n",
    "G= Generator()\n",
    "\n",
    "image_list=[]\n",
    "# 판별기,생성기 훈련\n",
    "for i in range(10000):\n",
    "    # 1단계 : 참에 대한 판결기 훈련 (실제 데이터에 대해서 훈련)\n",
    "    D.train(generate_real(),torch.FloatTensor([1.0]))\n",
    "    \n",
    "    '''\n",
    "    #2단계 :거짓에 대해 판별기 훈련 - 생성기에서 비롯된 패턴을 통해 학습\n",
    "    - G의 기울기가 계산되지 않도록 detach() 함수를 이용 -생성기의 출력에 적용되어 계산 그래프에서 생성기를 떼어내는 역할을 함.\n",
    "    현재 판별기 훈련중이므로 생성기의 기울기를 계산할 이유가 없음 \n",
    "    '''\n",
    "    D.train(G.forward(torch.FloatTensor([0.5])).detach(),torch.FloatTensor([0.0]))\n",
    "    \n",
    "    # 3단계 : 생성기 훈련\n",
    "    G.train(D,torch.FloatTensor([0.5]),torch.FloatTensor([1.0]))\n",
    "    \n",
    "    # 추가적으로 , 1010 패턴이 어떤 식으로 훈련을 거치며 변화하는지 시각화해보자 \n",
    "    #매 1000회 이미지를 저장    \n",
    "    if ( i % 1000 ==0):\n",
    "        image_list.append(G.forward(torch.FloatTensor([0.5])).detach().numpy())\n",
    "\n",
    "    pass\n",
    "    "
   ]
  },
  {
   "cell_type": "code",
   "execution_count": 22,
   "id": "representative-andrews",
   "metadata": {},
   "outputs": [
    {
     "data": {
      "text/plain": [
       "'\\n판별기가 실제 데이터와 조작된 데이터를 잘 판별하지 못하는 결과를 내놓는 다면 , 그결과는 0.5라는 결과를 내놓을 것이다.\\n현재 평균 제곱오차를 이용했기 때문에 0.5를 제곱한 0.25가 손실로 나오는 것이다. \\n'"
      ]
     },
     "execution_count": 22,
     "metadata": {},
     "output_type": "execute_result"
    },
    {
     "data": {
      "image/png": "[encoded data removed]",
      "text/plain": [
       "<Figure size 1152x576 with 1 Axes>"
      ]
     },
     "metadata": {
      "needs_background": "light"
     },
     "output_type": "display_data"
    }
   ],
   "source": [
    "D.plot_progress()\n",
    "\n",
    "'''\n",
    "판별기가 실제 데이터와 조작된 데이터를 잘 판별하지 못하는 결과를 내놓는 다면 , 그결과는 0.5라는 결과를 내놓을 것이다.\n",
    "현재 평균 제곱오차를 이용했기 때문에 0.5를 제곱한 0.25가 손실로 나오는 것이다. \n",
    "'''"
   ]
  },
  {
   "cell_type": "code",
   "execution_count": 23,
   "id": "killing-shell",
   "metadata": {},
   "outputs": [
    {
     "data": {
      "image/png": "[encoded data removed]",
      "text/plain": [
       "<Figure size 1152x576 with 1 Axes>"
      ]
     },
     "metadata": {
      "needs_background": "light"
     },
     "output_type": "display_data"
    }
   ],
   "source": [
    "G.plot_progress()"
   ]
  },
  {
   "cell_type": "code",
   "execution_count": 24,
   "id": "metropolitan-istanbul",
   "metadata": {},
   "outputs": [
    {
     "data": {
      "text/plain": [
       "tensor([0.9426, 0.0360, 0.9625, 0.0440], grad_fn=<SigmoidBackward>)"
      ]
     },
     "execution_count": 24,
     "metadata": {},
     "output_type": "execute_result"
    }
   ],
   "source": [
    "# 이제 생성기가 만들어낸 데이터를 보고 어떤 패턴을 만들어 냈는지 확인해보자! 우리가 처음으로 생성해본 데이터다\n",
    "\n",
    "G.forward(torch.FloatTensor([0.5]))"
   ]
  },
  {
   "cell_type": "code",
   "execution_count": 25,
   "id": "federal-committee",
   "metadata": {},
   "outputs": [
    {
     "data": {
      "text/plain": [
       "<matplotlib.image.AxesImage at 0x1d2e81708b0>"
      ]
     },
     "execution_count": 25,
     "metadata": {},
     "output_type": "execute_result"
    },
    {
     "data": {
      "image/png": "[encoded data removed]",
      "text/plain": [
       "<Figure size 1152x576 with 1 Axes>"
      ]
     },
     "metadata": {
      "needs_background": "light"
     },
     "output_type": "display_data"
    }
   ],
   "source": [
    "plt.figure(figsize=(16,8))\n",
    "plt.imshow(np.array(image_list).T,interpolation='none',cmap='Blues')"
   ]
  },
  {
   "cell_type": "code",
   "execution_count": 26,
   "id": "informed-wisconsin",
   "metadata": {},
   "outputs": [
    {
     "data": {
      "text/plain": [
       "[array([0.6631048 , 0.60045546, 0.50092417, 0.3567667 ], dtype=float32),\n",
       " array([0.8999098 , 0.076246  , 0.9339972 , 0.06823883], dtype=float32),\n",
       " array([0.95908356, 0.02566074, 0.9735309 , 0.03285396], dtype=float32),\n",
       " array([0.9658162 , 0.02196895, 0.9774121 , 0.0298478 ], dtype=float32),\n",
       " array([0.95885277, 0.0248969 , 0.97313595, 0.03301038], dtype=float32),\n",
       " array([0.9039092 , 0.05227917, 0.9379233 , 0.05861894], dtype=float32),\n",
       " array([0.6298331 , 0.35381606, 0.5448867 , 0.20335554], dtype=float32),\n",
       " array([0.9045673 , 0.05561118, 0.9375059 , 0.06155508], dtype=float32),\n",
       " array([0.95018095, 0.03285947, 0.96702766, 0.04065178], dtype=float32),\n",
       " array([0.9549045 , 0.03072119, 0.9699138 , 0.03854786], dtype=float32)]"
      ]
     },
     "execution_count": 26,
     "metadata": {},
     "output_type": "execute_result"
    }
   ],
   "source": [
    "image_list"
   ]
  },
  {
   "cell_type": "code",
   "execution_count": null,
   "id": "designed-apple",
   "metadata": {},
   "outputs": [],
   "source": []
  },
  {
   "cell_type": "code",
   "execution_count": null,
   "id": "removed-trunk",
   "metadata": {},
   "outputs": [],
   "source": []
  },
  {
   "cell_type": "code",
   "execution_count": null,
   "id": "danish-commitment",
   "metadata": {},
   "outputs": [],
   "source": []
  },
  {
   "cell_type": "code",
   "execution_count": null,
   "id": "defined-plaintiff",
   "metadata": {},
   "outputs": [],
   "source": []
  },
  {
   "cell_type": "code",
   "execution_count": null,
   "id": "clinical-class",
   "metadata": {},
   "outputs": [],
   "source": []
  },
  {
   "cell_type": "code",
   "execution_count": null,
   "id": "accomplished-annotation",
   "metadata": {},
   "outputs": [],
   "source": []
  },
  {
   "cell_type": "code",
   "execution_count": null,
   "id": "mental-occasion",
   "metadata": {},
   "outputs": [],
   "source": []
  },
  {
   "cell_type": "code",
   "execution_count": null,
   "id": "continental-spice",
   "metadata": {},
   "outputs": [],
   "source": []
  },
  {
   "cell_type": "code",
   "execution_count": null,
   "id": "radical-klein",
   "metadata": {},
   "outputs": [],
   "source": []
  }
 ],
 "metadata": {
  "kernelspec": {
   "display_name": "Python 3",
   "language": "python",
   "name": "python3"
  },
  "language_info": {
   "codemirror_mode": {
    "name": "ipython",
    "version": 3
   },
   "file_extension": ".py",
   "mimetype": "text/x-python",
   "name": "python",
   "nbconvert_exporter": "python",
   "pygments_lexer": "ipython3",
   "version": "3.8.5"
  }
 },
 "nbformat": 4,
 "nbformat_minor": 5
}
