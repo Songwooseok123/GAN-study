{
 "cells": [
  {
   "cell_type": "markdown",
   "id": "collect-installation",
   "metadata": {},
   "source": [
    "# 파이토치로 만드느 첫번째 신경망"
   ]
  },
  {
   "cell_type": "code",
   "execution_count": 1,
   "id": "checked-board",
   "metadata": {},
   "outputs": [],
   "source": [
    "import pandas"
   ]
  },
  {
   "cell_type": "code",
   "execution_count": 4,
   "id": "ideal-sussex",
   "metadata": {},
   "outputs": [],
   "source": [
    "df=pandas.read_csv('C:/Users/Songwooseok/mnist_train.csv')"
   ]
  },
  {
   "cell_type": "code",
   "execution_count": 5,
   "id": "apparent-cause",
   "metadata": {},
   "outputs": [
    {
     "data": {
      "text/html": [
       "<div>\n",
       "<style scoped>\n",
       "    .dataframe tbody tr th:only-of-type {\n",
       "        vertical-align: middle;\n",
       "    }\n",
       "\n",
       "    .dataframe tbody tr th {\n",
       "        vertical-align: top;\n",
       "    }\n",
       "\n",
       "    .dataframe thead th {\n",
       "        text-align: right;\n",
       "    }\n",
       "</style>\n",
       "<table border=\"1\" class=\"dataframe\">\n",
       "  <thead>\n",
       "    <tr style=\"text-align: right;\">\n",
       "      <th></th>\n",
       "      <th>5</th>\n",
       "      <th>0</th>\n",
       "      <th>0.1</th>\n",
       "      <th>0.2</th>\n",
       "      <th>0.3</th>\n",
       "      <th>0.4</th>\n",
       "      <th>0.5</th>\n",
       "      <th>0.6</th>\n",
       "      <th>0.7</th>\n",
       "      <th>0.8</th>\n",
       "      <th>...</th>\n",
       "      <th>0.608</th>\n",
       "      <th>0.609</th>\n",
       "      <th>0.610</th>\n",
       "      <th>0.611</th>\n",
       "      <th>0.612</th>\n",
       "      <th>0.613</th>\n",
       "      <th>0.614</th>\n",
       "      <th>0.615</th>\n",
       "      <th>0.616</th>\n",
       "      <th>0.617</th>\n",
       "    </tr>\n",
       "  </thead>\n",
       "  <tbody>\n",
       "    <tr>\n",
       "      <th>0</th>\n",
       "      <td>0</td>\n",
       "      <td>0</td>\n",
       "      <td>0</td>\n",
       "      <td>0</td>\n",
       "      <td>0</td>\n",
       "      <td>0</td>\n",
       "      <td>0</td>\n",
       "      <td>0</td>\n",
       "      <td>0</td>\n",
       "      <td>0</td>\n",
       "      <td>...</td>\n",
       "      <td>0</td>\n",
       "      <td>0</td>\n",
       "      <td>0</td>\n",
       "      <td>0</td>\n",
       "      <td>0</td>\n",
       "      <td>0</td>\n",
       "      <td>0</td>\n",
       "      <td>0</td>\n",
       "      <td>0</td>\n",
       "      <td>0</td>\n",
       "    </tr>\n",
       "    <tr>\n",
       "      <th>1</th>\n",
       "      <td>4</td>\n",
       "      <td>0</td>\n",
       "      <td>0</td>\n",
       "      <td>0</td>\n",
       "      <td>0</td>\n",
       "      <td>0</td>\n",
       "      <td>0</td>\n",
       "      <td>0</td>\n",
       "      <td>0</td>\n",
       "      <td>0</td>\n",
       "      <td>...</td>\n",
       "      <td>0</td>\n",
       "      <td>0</td>\n",
       "      <td>0</td>\n",
       "      <td>0</td>\n",
       "      <td>0</td>\n",
       "      <td>0</td>\n",
       "      <td>0</td>\n",
       "      <td>0</td>\n",
       "      <td>0</td>\n",
       "      <td>0</td>\n",
       "    </tr>\n",
       "    <tr>\n",
       "      <th>2</th>\n",
       "      <td>1</td>\n",
       "      <td>0</td>\n",
       "      <td>0</td>\n",
       "      <td>0</td>\n",
       "      <td>0</td>\n",
       "      <td>0</td>\n",
       "      <td>0</td>\n",
       "      <td>0</td>\n",
       "      <td>0</td>\n",
       "      <td>0</td>\n",
       "      <td>...</td>\n",
       "      <td>0</td>\n",
       "      <td>0</td>\n",
       "      <td>0</td>\n",
       "      <td>0</td>\n",
       "      <td>0</td>\n",
       "      <td>0</td>\n",
       "      <td>0</td>\n",
       "      <td>0</td>\n",
       "      <td>0</td>\n",
       "      <td>0</td>\n",
       "    </tr>\n",
       "    <tr>\n",
       "      <th>3</th>\n",
       "      <td>9</td>\n",
       "      <td>0</td>\n",
       "      <td>0</td>\n",
       "      <td>0</td>\n",
       "      <td>0</td>\n",
       "      <td>0</td>\n",
       "      <td>0</td>\n",
       "      <td>0</td>\n",
       "      <td>0</td>\n",
       "      <td>0</td>\n",
       "      <td>...</td>\n",
       "      <td>0</td>\n",
       "      <td>0</td>\n",
       "      <td>0</td>\n",
       "      <td>0</td>\n",
       "      <td>0</td>\n",
       "      <td>0</td>\n",
       "      <td>0</td>\n",
       "      <td>0</td>\n",
       "      <td>0</td>\n",
       "      <td>0</td>\n",
       "    </tr>\n",
       "    <tr>\n",
       "      <th>4</th>\n",
       "      <td>2</td>\n",
       "      <td>0</td>\n",
       "      <td>0</td>\n",
       "      <td>0</td>\n",
       "      <td>0</td>\n",
       "      <td>0</td>\n",
       "      <td>0</td>\n",
       "      <td>0</td>\n",
       "      <td>0</td>\n",
       "      <td>0</td>\n",
       "      <td>...</td>\n",
       "      <td>0</td>\n",
       "      <td>0</td>\n",
       "      <td>0</td>\n",
       "      <td>0</td>\n",
       "      <td>0</td>\n",
       "      <td>0</td>\n",
       "      <td>0</td>\n",
       "      <td>0</td>\n",
       "      <td>0</td>\n",
       "      <td>0</td>\n",
       "    </tr>\n",
       "  </tbody>\n",
       "</table>\n",
       "<p>5 rows × 785 columns</p>\n",
       "</div>"
      ],
      "text/plain": [
       "   5  0  0.1  0.2  0.3  0.4  0.5  0.6  0.7  0.8  ...  0.608  0.609  0.610  \\\n",
       "0  0  0    0    0    0    0    0    0    0    0  ...      0      0      0   \n",
       "1  4  0    0    0    0    0    0    0    0    0  ...      0      0      0   \n",
       "2  1  0    0    0    0    0    0    0    0    0  ...      0      0      0   \n",
       "3  9  0    0    0    0    0    0    0    0    0  ...      0      0      0   \n",
       "4  2  0    0    0    0    0    0    0    0    0  ...      0      0      0   \n",
       "\n",
       "   0.611  0.612  0.613  0.614  0.615  0.616  0.617  \n",
       "0      0      0      0      0      0      0      0  \n",
       "1      0      0      0      0      0      0      0  \n",
       "2      0      0      0      0      0      0      0  \n",
       "3      0      0      0      0      0      0      0  \n",
       "4      0      0      0      0      0      0      0  \n",
       "\n",
       "[5 rows x 785 columns]"
      ]
     },
     "execution_count": 5,
     "metadata": {},
     "output_type": "execute_result"
    }
   ],
   "source": [
    "df.head()\n",
    "#맨 첫줄이 해당 이미지의 정답 숫자, 나머지 784개의 값이 28*28 픽셀값 "
   ]
  },
  {
   "cell_type": "code",
   "execution_count": 9,
   "id": "subjective-oregon",
   "metadata": {},
   "outputs": [
    {
     "name": "stdout",
     "output_type": "stream",
     "text": [
      "5        9\n",
      "0        0\n",
      "0.1      0\n",
      "0.2      0\n",
      "0.3      0\n",
      "        ..\n",
      "0.613    0\n",
      "0.614    0\n",
      "0.615    0\n",
      "0.616    0\n",
      "0.617    0\n",
      "Name: 3, Length: 785, dtype: int64\n"
     ]
    },
    {
     "data": {
      "image/png": "[encoded data removed]",
      "text/plain": [
       "<Figure size 432x288 with 1 Axes>"
      ]
     },
     "metadata": {
      "needs_background": "light"
     },
     "output_type": "display_data"
    }
   ],
   "source": [
    "import matplotlib.pyplot as plt\n",
    "#get data from dataframe\n",
    "data =df.iloc[3]\n",
    "print(data)\n",
    "#label is the first value\n",
    "label=data[0]\n",
    "\n",
    "#image 데이터는 나머지 784개의 값\n",
    "img = data[1:].values.reshape(28,28)\n",
    "\n",
    "plt.imshow(img)\n",
    "plt.show()\n"
   ]
  },
  {
   "cell_type": "markdown",
   "id": "approximate-world",
   "metadata": {},
   "source": [
    "## 신경망(분류기) 클래스만들기 "
   ]
  },
  {
   "cell_type": "code",
   "execution_count": 10,
   "id": "vocal-local",
   "metadata": {},
   "outputs": [
    {
     "name": "stdout",
     "output_type": "stream",
     "text": [
      "Requirement already satisfied: torch in c:\\users\\songwooseok\\miniconda3\\lib\\site-packages (1.9.0)\n",
      "Requirement already satisfied: typing-extensions in c:\\users\\songwooseok\\miniconda3\\lib\\site-packages (from torch) (3.10.0.0)\n",
      "Note: you may need to restart the kernel to use updated packages.\n"
     ]
    }
   ],
   "source": [
    "pip install --upgrade torch"
   ]
  },
  {
   "cell_type": "code",
   "execution_count": 11,
   "id": "medium-marsh",
   "metadata": {},
   "outputs": [],
   "source": [
    "import torch\n",
    "import torch.nn as nn"
   ]
  },
  {
   "cell_type": "code",
   "execution_count": 12,
   "id": "clear-citation",
   "metadata": {},
   "outputs": [],
   "source": [
    "class Classifier(nn.Module):\n",
    "    \n",
    "    def __init__(self):\n",
    "        #부모클래스 초기화\n",
    "        super().__init__()\n",
    "        \n",
    "        #신경망 레이어 정의 \n",
    "        self.model = nn.Sequential(\n",
    "            nn.Linear(784,200),  \n",
    "            nn.Sigmoid(),\n",
    "            nn.Linear(200,10),\n",
    "            nn.Sigmoid()\n",
    "        )\n",
    "        #손실함수\n",
    "        self.loss_function = nn.MSELoss()\n",
    "        \n",
    "        #SGD 옵티마이저\n",
    "        self.optimiser = torch.optim.SGD(self.parameters(),lr=0.01)\n",
    "        \n",
    "        # counter and accumulator for progress\n",
    "        self.counter = 0\n",
    "        self.progress = []\n",
    "        \n",
    "        pass\n",
    "    def forward(self,inputs):\n",
    "        #모델실행\n",
    "        return self.model(inputs)\n",
    "    \n",
    "    def train(self,inputs,targets):\n",
    "        #신경망 출력 계산\n",
    "        outputs =self.forward(inputs)\n",
    "        \n",
    "        #손실 계산\n",
    "        loss = self.loss_function(outputs,targets)\n",
    "        \n",
    "        # increase counter and accumulate error every 10\n",
    "        self.counter += 1\n",
    "        if (self.counter % 10 == 0):\n",
    "            self.progress.append(loss.item())\n",
    "            pass\n",
    "        if (self.counter % 10000 == 0):\n",
    "            print(\"counter = \", self.counter)\n",
    "            pass\n",
    "\n",
    "        # zero gradients, perform a backward pass, and update the weights\n",
    "        self.optimiser.zero_grad() #기울기 초기화\n",
    "        loss.backward() #역전파 실행\n",
    "        self.optimiser.step() #가중치 갱신\n",
    "\n",
    "        pass\n",
    "     \n",
    "    def plot_progress(self): # 오차 출력 \n",
    "        df = pandas.DataFrame(self.progress, columns=['loss'])\n",
    "        df.plot(ylim=(0, 1.0), figsize=(16,8), alpha=0.1, marker='.', grid=True, yticks=(0, 0.25, 0.5))\n",
    "        pass\n",
    "    \n",
    "    pass"
   ]
  },
  {
   "cell_type": "markdown",
   "id": "superb-gabriel",
   "metadata": {},
   "source": [
    "## MNIST 데이터셋 클래스"
   ]
  },
  {
   "cell_type": "code",
   "execution_count": 13,
   "id": "signed-disney",
   "metadata": {},
   "outputs": [],
   "source": [
    "from torch.utils.data import Dataset"
   ]
  },
  {
   "cell_type": "code",
   "execution_count": 14,
   "id": "motivated-course",
   "metadata": {},
   "outputs": [],
   "source": [
    "class MnistDataset(Dataset):\n",
    "    def __init__(self,csv_file):\n",
    "        self.data_df = pandas.read_csv(csv_file,header=None)\n",
    "        pass\n",
    "    def __len__(self):\n",
    "        return len(self.data_df)\n",
    "    def __getitem__(self,index):\n",
    "        #이미지 목표(레이블)\n",
    "        label =self.data_df.iloc[index,0]\n",
    "        #one hot encoding\n",
    "        target=torch.zeros((10))\n",
    "        target[label]=1.0\n",
    "        \n",
    "        #0~255의 이미지를 0~1로 정규화\n",
    "        image_values = torch.FloatTensor(self.data_df.iloc[index,1:].values)/255.0\n",
    "        # 레이블,이미지,데이터 텐서 ,목표 텐서 반환\n",
    "        return label,image_values ,target\n",
    "    def plot_image(self,index):\n",
    "        img=self.data_df.iloc[index,1:].values.reshape(28,28)\n",
    "        plt.title(\"label=\"+str(self.data_df.iloc[index,0]))\n",
    "        plt.imshow(img,interpolation='none',cmap='Blues')\n",
    "        pass\n",
    "    pass"
   ]
  },
  {
   "cell_type": "code",
   "execution_count": 17,
   "id": "choice-audit",
   "metadata": {},
   "outputs": [
    {
     "data": {
      "text/plain": [
       "(4,\n",
       " tensor([0.0000, 0.0000, 0.0000, 0.0000, 0.0000, 0.0000, 0.0000, 0.0000, 0.0000,\n",
       "         0.0000, 0.0000, 0.0000, 0.0000, 0.0000, 0.0000, 0.0000, 0.0000, 0.0000,\n",
       "         0.0000, 0.0000, 0.0000, 0.0000, 0.0000, 0.0000, 0.0000, 0.0000, 0.0000,\n",
       "         0.0000, 0.0000, 0.0000, 0.0000, 0.0000, 0.0000, 0.0000, 0.0000, 0.0000,\n",
       "         0.0000, 0.0000, 0.0000, 0.0000, 0.0000, 0.0000, 0.0000, 0.0000, 0.0000,\n",
       "         0.0000, 0.0000, 0.0000, 0.0000, 0.0000, 0.0000, 0.0000, 0.0000, 0.0000,\n",
       "         0.0000, 0.0000, 0.0000, 0.0000, 0.0000, 0.0000, 0.0000, 0.0000, 0.0000,\n",
       "         0.0000, 0.0000, 0.0000, 0.0000, 0.0000, 0.0000, 0.0000, 0.0000, 0.0000,\n",
       "         0.0000, 0.0000, 0.0000, 0.0000, 0.0000, 0.0000, 0.0000, 0.0000, 0.0000,\n",
       "         0.0000, 0.0000, 0.0000, 0.0000, 0.0000, 0.0000, 0.0000, 0.0000, 0.0000,\n",
       "         0.0000, 0.0000, 0.0000, 0.0000, 0.0000, 0.0000, 0.0000, 0.0000, 0.0000,\n",
       "         0.0000, 0.0000, 0.0000, 0.0000, 0.0000, 0.0000, 0.0000, 0.0000, 0.0000,\n",
       "         0.0000, 0.0000, 0.0000, 0.0000, 0.0000, 0.0000, 0.0000, 0.0000, 0.0000,\n",
       "         0.0000, 0.0000, 0.0000, 0.0000, 0.0000, 0.0000, 0.0000, 0.0000, 0.0000,\n",
       "         0.0000, 0.0000, 0.0000, 0.0000, 0.0000, 0.0000, 0.0000, 0.0000, 0.7412,\n",
       "         0.7451, 0.0000, 0.0000, 0.0000, 0.0000, 0.0000, 0.0000, 0.0000, 0.0000,\n",
       "         0.0000, 0.0000, 0.0000, 0.0000, 0.0000, 0.0000, 0.0000, 0.0000, 0.0000,\n",
       "         0.0000, 0.0000, 0.0000, 0.0000, 0.0000, 0.0000, 0.0000, 0.0000, 0.5608,\n",
       "         0.9686, 0.6000, 0.0000, 0.0000, 0.0000, 0.0000, 0.0000, 0.0000, 0.0000,\n",
       "         0.0000, 0.0000, 0.0000, 0.0000, 0.0000, 0.0000, 0.0000, 0.0000, 0.0000,\n",
       "         0.0000, 0.0000, 0.0000, 0.0000, 0.0000, 0.0000, 0.0000, 0.0000, 0.5333,\n",
       "         0.9686, 0.9490, 0.3373, 0.0000, 0.0000, 0.0000, 0.0000, 0.0000, 0.0000,\n",
       "         0.0000, 0.0000, 0.0000, 0.0000, 0.0000, 0.0000, 0.0000, 0.0000, 0.0000,\n",
       "         0.0000, 0.0000, 0.0000, 0.0000, 0.0000, 0.0000, 0.0000, 0.0000, 0.0000,\n",
       "         0.7529, 0.9882, 0.7333, 0.0000, 0.0000, 0.0000, 0.0000, 0.0000, 0.0000,\n",
       "         0.0000, 0.0000, 0.0000, 0.0000, 0.0000, 0.0000, 0.0000, 0.0000, 0.0000,\n",
       "         0.0000, 0.0000, 0.2431, 0.7255, 0.0706, 0.0000, 0.0000, 0.0000, 0.0000,\n",
       "         0.3490, 0.9255, 0.8510, 0.1843, 0.0000, 0.0000, 0.0000, 0.0000, 0.0000,\n",
       "         0.0000, 0.0000, 0.0000, 0.0000, 0.0000, 0.0000, 0.0000, 0.0000, 0.0000,\n",
       "         0.0000, 0.0000, 0.0000, 0.8471, 0.9922, 0.2353, 0.0000, 0.0000, 0.0000,\n",
       "         0.0000, 0.8314, 1.0000, 0.3176, 0.0000, 0.0000, 0.0000, 0.0000, 0.0000,\n",
       "         0.0000, 0.0000, 0.0000, 0.0000, 0.0000, 0.0000, 0.0000, 0.0000, 0.0000,\n",
       "         0.0000, 0.0000, 0.0000, 0.0000, 0.8078, 0.9882, 0.2667, 0.0000, 0.0000,\n",
       "         0.0000, 0.1882, 0.9490, 0.9922, 0.3490, 0.0000, 0.0000, 0.0000, 0.0000,\n",
       "         0.0000, 0.0000, 0.0000, 0.0000, 0.0000, 0.0000, 0.0000, 0.0000, 0.0000,\n",
       "         0.0000, 0.0000, 0.0000, 0.0000, 0.5137, 0.9843, 0.8314, 0.0824, 0.0000,\n",
       "         0.0000, 0.0431, 0.6549, 0.9882, 0.7725, 0.0196, 0.0000, 0.0000, 0.0000,\n",
       "         0.0000, 0.0000, 0.0000, 0.0000, 0.0000, 0.0000, 0.0000, 0.0000, 0.0000,\n",
       "         0.0000, 0.0000, 0.0000, 0.0000, 0.1137, 0.9098, 0.9686, 0.2471, 0.0000,\n",
       "         0.0000, 0.0000, 0.6000, 0.9882, 0.8863, 0.0000, 0.0000, 0.0000, 0.0000,\n",
       "         0.0000, 0.0000, 0.0000, 0.0000, 0.0000, 0.0000, 0.0000, 0.0000, 0.0000,\n",
       "         0.0000, 0.0000, 0.0000, 0.0000, 0.1765, 0.8588, 0.9882, 0.5608, 0.0000,\n",
       "         0.0000, 0.0000, 0.4549, 0.9765, 0.9882, 0.4039, 0.0000, 0.0000, 0.0000,\n",
       "         0.0000, 0.0000, 0.0000, 0.0000, 0.0000, 0.0000, 0.0000, 0.0000, 0.0000,\n",
       "         0.0000, 0.0000, 0.0000, 0.0157, 0.3765, 0.9922, 1.0000, 0.9922, 0.7843,\n",
       "         0.4784, 0.0275, 0.0980, 0.7882, 0.9804, 0.6196, 0.0000, 0.0000, 0.0000,\n",
       "         0.0000, 0.0000, 0.0000, 0.0000, 0.0000, 0.0000, 0.0000, 0.0000, 0.0000,\n",
       "         0.0000, 0.0000, 0.0000, 0.0000, 0.3608, 0.9882, 0.9882, 0.9922, 0.8510,\n",
       "         0.9882, 0.9882, 0.7843, 0.8902, 0.9882, 0.9059, 0.0000, 0.0000, 0.0000,\n",
       "         0.0000, 0.0000, 0.0000, 0.0000, 0.0000, 0.0000, 0.0000, 0.0000, 0.0000,\n",
       "         0.0000, 0.0000, 0.0000, 0.0000, 0.3412, 0.9843, 0.9686, 0.9059, 0.2549,\n",
       "         0.1882, 0.7412, 0.9882, 0.9882, 0.9922, 0.9882, 0.9843, 0.8902, 0.1373,\n",
       "         0.0000, 0.0000, 0.0000, 0.0000, 0.0000, 0.0000, 0.0000, 0.0000, 0.0000,\n",
       "         0.0000, 0.0000, 0.0000, 0.0000, 0.0000, 0.7451, 0.8667, 0.3843, 0.0000,\n",
       "         0.0000, 0.0000, 0.1647, 0.7686, 0.9882, 0.9922, 0.9882, 0.9882, 0.6353,\n",
       "         0.0000, 0.0000, 0.0000, 0.0000, 0.0000, 0.0000, 0.0000, 0.0000, 0.0000,\n",
       "         0.0000, 0.0000, 0.0000, 0.0000, 0.0000, 0.0000, 0.4353, 0.1137, 0.0000,\n",
       "         0.0000, 0.0000, 0.0000, 0.2431, 0.9373, 0.9882, 0.3373, 0.1647, 0.1647,\n",
       "         0.0549, 0.0000, 0.0000, 0.0000, 0.0000, 0.0000, 0.0000, 0.0000, 0.0000,\n",
       "         0.0000, 0.0000, 0.0000, 0.0000, 0.0000, 0.0000, 0.0000, 0.0000, 0.0000,\n",
       "         0.0000, 0.0000, 0.0000, 0.0588, 0.5804, 0.9922, 0.8549, 0.0000, 0.0000,\n",
       "         0.0000, 0.0000, 0.0000, 0.0000, 0.0000, 0.0000, 0.0000, 0.0000, 0.0000,\n",
       "         0.0000, 0.0000, 0.0000, 0.0000, 0.0000, 0.0000, 0.0000, 0.0000, 0.0000,\n",
       "         0.0000, 0.0000, 0.0000, 0.0000, 0.4745, 0.9882, 0.9059, 0.1098, 0.0000,\n",
       "         0.0000, 0.0000, 0.0000, 0.0000, 0.0000, 0.0000, 0.0000, 0.0000, 0.0000,\n",
       "         0.0000, 0.0000, 0.0000, 0.0000, 0.0000, 0.0000, 0.0000, 0.0000, 0.0000,\n",
       "         0.0000, 0.0000, 0.0000, 0.0000, 0.1216, 0.8667, 0.9843, 0.5059, 0.0000,\n",
       "         0.0000, 0.0000, 0.0000, 0.0000, 0.0000, 0.0000, 0.0000, 0.0000, 0.0000,\n",
       "         0.0000, 0.0000, 0.0000, 0.0000, 0.0000, 0.0000, 0.0000, 0.0000, 0.0000,\n",
       "         0.0000, 0.0000, 0.0000, 0.0000, 0.0000, 0.8549, 0.9882, 0.6275, 0.0000,\n",
       "         0.0000, 0.0000, 0.0000, 0.0000, 0.0000, 0.0000, 0.0000, 0.0000, 0.0000,\n",
       "         0.0000, 0.0000, 0.0000, 0.0000, 0.0000, 0.0000, 0.0000, 0.0000, 0.0000,\n",
       "         0.0000, 0.0000, 0.0000, 0.0000, 0.0000, 0.0000, 0.4784, 0.9882, 0.3216,\n",
       "         0.0000, 0.0000, 0.0000, 0.0000, 0.0000, 0.0000, 0.0000, 0.0000, 0.0000,\n",
       "         0.0000, 0.0000, 0.0000, 0.0000, 0.0000, 0.0000, 0.0000, 0.0000, 0.0000,\n",
       "         0.0000, 0.0000, 0.0000, 0.0000, 0.0000, 0.0000, 0.0000, 0.0000, 0.0000,\n",
       "         0.0000, 0.0000, 0.0000, 0.0000, 0.0000, 0.0000, 0.0000, 0.0000, 0.0000,\n",
       "         0.0000, 0.0000, 0.0000, 0.0000, 0.0000, 0.0000, 0.0000, 0.0000, 0.0000,\n",
       "         0.0000, 0.0000, 0.0000, 0.0000, 0.0000, 0.0000, 0.0000, 0.0000, 0.0000,\n",
       "         0.0000, 0.0000, 0.0000, 0.0000, 0.0000, 0.0000, 0.0000, 0.0000, 0.0000,\n",
       "         0.0000, 0.0000, 0.0000, 0.0000, 0.0000, 0.0000, 0.0000, 0.0000, 0.0000,\n",
       "         0.0000, 0.0000, 0.0000, 0.0000, 0.0000, 0.0000, 0.0000, 0.0000, 0.0000,\n",
       "         0.0000, 0.0000, 0.0000, 0.0000, 0.0000, 0.0000, 0.0000, 0.0000, 0.0000,\n",
       "         0.0000, 0.0000, 0.0000, 0.0000, 0.0000, 0.0000, 0.0000, 0.0000, 0.0000,\n",
       "         0.0000, 0.0000, 0.0000, 0.0000, 0.0000, 0.0000, 0.0000, 0.0000, 0.0000,\n",
       "         0.0000, 0.0000, 0.0000, 0.0000, 0.0000, 0.0000, 0.0000, 0.0000, 0.0000,\n",
       "         0.0000, 0.0000, 0.0000, 0.0000, 0.0000, 0.0000, 0.0000, 0.0000, 0.0000,\n",
       "         0.0000]),\n",
       " tensor([0., 0., 0., 0., 1., 0., 0., 0., 0., 0.]))"
      ]
     },
     "execution_count": 17,
     "metadata": {},
     "output_type": "execute_result"
    },
    {
     "data": {
      "image/png": "[encoded data removed]",
      "text/plain": [
       "<Figure size 432x288 with 1 Axes>"
      ]
     },
     "metadata": {
      "needs_background": "light"
     },
     "output_type": "display_data"
    }
   ],
   "source": [
    "mnist_dataset=MnistDataset('C:/Users/Songwooseok/mnist_train.csv')\n",
    "mnist_dataset.plot_image(9)\n",
    "mnist_dataset.__getitem__(9)\n"
   ]
  },
  {
   "cell_type": "markdown",
   "id": "injured-helmet",
   "metadata": {},
   "source": [
    "## 분류기 훈련시키기 "
   ]
  },
  {
   "cell_type": "code",
   "execution_count": 18,
   "id": "central-morrison",
   "metadata": {
    "scrolled": true
   },
   "outputs": [
    {
     "name": "stdout",
     "output_type": "stream",
     "text": [
      "training epoch 1 of 3\n",
      "counter =  10000\n",
      "counter =  20000\n",
      "counter =  30000\n",
      "counter =  40000\n",
      "counter =  50000\n",
      "counter =  60000\n",
      "training epoch 2 of 3\n",
      "counter =  70000\n",
      "counter =  80000\n",
      "counter =  90000\n",
      "counter =  100000\n",
      "counter =  110000\n",
      "counter =  120000\n",
      "training epoch 3 of 3\n",
      "counter =  130000\n",
      "counter =  140000\n",
      "counter =  150000\n",
      "counter =  160000\n",
      "counter =  170000\n",
      "counter =  180000\n",
      "Wall time: 3min 28s\n"
     ]
    }
   ],
   "source": [
    "%%time\n",
    "\n",
    "#신경망 생성\n",
    "C=Classifier()\n",
    "#mnist data에 대해 훈련 진행\n",
    "epochs =3 \n",
    "for i in range(epochs):\n",
    "    print('training epoch',i+1,\"of\",epochs)\n",
    "    for label,image_data_tensor,target_tensor in mnist_dataset:\n",
    "        C.train(image_data_tensor,target_tensor)\n",
    "        pass\n",
    "    pass"
   ]
  },
  {
   "cell_type": "code",
   "execution_count": 19,
   "id": "departmental-burton",
   "metadata": {},
   "outputs": [
    {
     "data": {
      "image/png": "[encoded data removed]",
      "text/plain": [
       "<Figure size 1152x576 with 1 Axes>"
      ]
     },
     "metadata": {
      "needs_background": "light"
     },
     "output_type": "display_data"
    }
   ],
   "source": [
    "#분류기 오차 출력\n",
    "C.plot_progress()"
   ]
  },
  {
   "cell_type": "markdown",
   "id": "floating-adult",
   "metadata": {},
   "source": [
    "## 훈련시킨 신경망에 쿼리하기"
   ]
  },
  {
   "cell_type": "code",
   "execution_count": 22,
   "id": "sacred-mediterranean",
   "metadata": {},
   "outputs": [],
   "source": [
    "mnist_test_dataset=MnistDataset('C:/Users/Songwooseok/mnist_test.csv')\n"
   ]
  },
  {
   "cell_type": "code",
   "execution_count": 34,
   "id": "turkish-wallet",
   "metadata": {},
   "outputs": [
    {
     "name": "stdout",
     "output_type": "stream",
     "text": [
      "7\n",
      "tensor([0.0724, 0.0051, 0.0181, 0.1677, 0.0078, 0.0329, 0.0014, 0.9261, 0.0062,\n",
      "        0.0514], grad_fn=<SigmoidBackward>)\n",
      "[0.07243982 0.0050615  0.0180819  0.16768388 0.00776123 0.03285259\n",
      " 0.00137925 0.92605245 0.00622493 0.05136547]\n"
     ]
    },
    {
     "data": {
      "text/plain": [
       "<AxesSubplot:>"
      ]
     },
     "execution_count": 34,
     "metadata": {},
     "output_type": "execute_result"
    },
    {
     "data": {
      "image/png": "[encoded data removed]",
      "text/plain": [
       "<Figure size 432x288 with 1 Axes>"
      ]
     },
     "metadata": {
      "needs_background": "light"
     },
     "output_type": "display_data"
    }
   ],
   "source": [
    "image_data =mnist_test_dataset[17][1]\n",
    "print(mnist_test_dataset[17][0]) #label\n",
    "#훈련된 신경망으로부터 쿼리\n",
    "output = C.forward(image_data) \n",
    "print(output) #확률이네. \n",
    "#tensor 출력\n",
    "# 확률 : output.detach().numpy()\n",
    "pandas.DataFrame(output.detach().numpy()).plot(kind='bar',legend=False,ylim=(0,1))"
   ]
  },
  {
   "cell_type": "markdown",
   "id": "annoying-treaty",
   "metadata": {},
   "source": [
    "## 분류기 성능"
   ]
  },
  {
   "cell_type": "code",
   "execution_count": 33,
   "id": "younger-career",
   "metadata": {},
   "outputs": [
    {
     "name": "stdout",
     "output_type": "stream",
     "text": [
      "8634 10000 0.8634\n"
     ]
    }
   ],
   "source": [
    "score =0\n",
    "items=0\n",
    "for label,image_data_tensor,target_tensor in mnist_test_dataset:\n",
    "    answer =C.forward(image_data_tensor).detach().numpy()\n",
    "    if (answer.argmax()==label):\n",
    "        score += 1\n",
    "        pass\n",
    "    items +=1\n",
    "    pass\n",
    "print(score,items,score/items)"
   ]
  },
  {
   "cell_type": "code",
   "execution_count": null,
   "id": "superior-fifth",
   "metadata": {},
   "outputs": [],
   "source": []
  }
 ],
 "metadata": {
  "kernelspec": {
   "display_name": "Python 3",
   "language": "python",
   "name": "python3"
  },
  "language_info": {
   "codemirror_mode": {
    "name": "ipython",
    "version": 3
   },
   "file_extension": ".py",
   "mimetype": "text/x-python",
   "name": "python",
   "nbconvert_exporter": "python",
   "pygments_lexer": "ipython3",
   "version": "3.8.5"
  }
 },
 "nbformat": 4,
 "nbformat_minor": 5
}
