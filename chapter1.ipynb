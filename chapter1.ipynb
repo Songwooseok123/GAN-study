{
 "cells": [
  {
   "cell_type": "markdown",
   "metadata": {
    "id": "UvddayN9po4J"
   },
   "source": [
    "# Pytorch"
   ]
  },
  {
   "cell_type": "code",
   "execution_count": 2,
   "metadata": {
    "executionInfo": {
     "elapsed": 2616,
     "status": "ok",
     "timestamp": 1622183211777,
     "user": {
      "displayName": "송우석",
      "photoUrl": "",
      "userId": "17544301414917834266"
     },
     "user_tz": -540
    },
    "id": "oa1Y_FW4p1Eb"
   },
   "outputs": [],
   "source": [
    "import torch"
   ]
  },
  {
   "cell_type": "code",
   "execution_count": 4,
   "metadata": {
    "colab": {
     "base_uri": "https://localhost:8080/"
    },
    "executionInfo": {
     "elapsed": 318,
     "status": "ok",
     "timestamp": 1622183223758,
     "user": {
      "displayName": "송우석",
      "photoUrl": "",
      "userId": "17544301414917834266"
     },
     "user_tz": -540
    },
    "id": "dznJzvvjprzN",
    "outputId": "08d84068-1ea0-4cc1-8eab-2b41fe81212b"
   },
   "outputs": [
    {
     "name": "stdout",
     "output_type": "stream",
     "text": [
      "tensor(3.5000, requires_grad=True)\n"
     ]
    }
   ],
   "source": [
    "x=torch.tensor(3.5,requires_grad=True)\n",
    "print(x)"
   ]
  },
  {
   "cell_type": "code",
   "execution_count": 6,
   "metadata": {
    "executionInfo": {
     "elapsed": 271,
     "status": "ok",
     "timestamp": 1622183275675,
     "user": {
      "displayName": "송우석",
      "photoUrl": "",
      "userId": "17544301414917834266"
     },
     "user_tz": -540
    },
    "id": "R25tXU8Vp0U9"
   },
   "outputs": [],
   "source": [
    "y=(x-1)*(x-2)*(x-3)\n",
    "y.backward() #기울기게산"
   ]
  },
  {
   "cell_type": "code",
   "execution_count": 7,
   "metadata": {
    "colab": {
     "base_uri": "https://localhost:8080/"
    },
    "executionInfo": {
     "elapsed": 260,
     "status": "ok",
     "timestamp": 1622183286323,
     "user": {
      "displayName": "송우석",
      "photoUrl": "",
      "userId": "17544301414917834266"
     },
     "user_tz": -540
    },
    "id": "U8VWBOAop9uf",
    "outputId": "0147aebc-2a6c-4480-8b17-b240f9358d21"
   },
   "outputs": [
    {
     "data": {
      "text/plain": [
       "tensor(5.7500)"
      ]
     },
     "execution_count": 7,
     "metadata": {
      "tags": []
     },
     "output_type": "execute_result"
    }
   ],
   "source": [
    "x.grad"
   ]
  },
  {
   "cell_type": "code",
   "execution_count": 9,
   "metadata": {
    "colab": {
     "base_uri": "https://localhost:8080/"
    },
    "executionInfo": {
     "elapsed": 259,
     "status": "ok",
     "timestamp": 1622184262626,
     "user": {
      "displayName": "송우석",
      "photoUrl": "",
      "userId": "17544301414917834266"
     },
     "user_tz": -540
    },
    "id": "60roGJtlqJG8",
    "outputId": "f51d041a-e631-4a0a-887c-097fa177e853"
   },
   "outputs": [
    {
     "data": {
      "text/plain": [
       "tensor(64.)"
      ]
     },
     "execution_count": 9,
     "metadata": {
      "tags": []
     },
     "output_type": "execute_result"
    }
   ],
   "source": [
    "a=torch.tensor(2.0,requires_grad=True)\n",
    "b=torch.tensor(1.0,requires_grad=True)\n",
    "\n",
    "x=2*a+3*b\n",
    "y=5*a*a +3*b*b\n",
    "z=2*x+3*y\n",
    "\n",
    "z.backward()\n",
    "\n",
    "a.grad"
   ]
  },
  {
   "cell_type": "code",
   "execution_count": null,
   "metadata": {
    "id": "q8RaqBbkt2lM"
   },
   "outputs": [],
   "source": []
  }
 ],
 "metadata": {
  "colab": {
   "authorship_tag": "ABX9TyPNuaRfwRnmctufA5VqIKkE",
   "name": "GAN 첫걸음.ipynb",
   "provenance": []
  },
  "kernelspec": {
   "display_name": "Python 3",
   "language": "python",
   "name": "python3"
  },
  "language_info": {
   "codemirror_mode": {
    "name": "ipython",
    "version": 3
   },
   "file_extension": ".py",
   "mimetype": "text/x-python",
   "name": "python",
   "nbconvert_exporter": "python",
   "pygments_lexer": "ipython3",
   "version": "3.8.5"
  }
 },
 "nbformat": 4,
 "nbformat_minor": 1
}
